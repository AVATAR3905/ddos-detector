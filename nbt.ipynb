{
 "cells": [
  {
   "cell_type": "code",
   "execution_count": 47,
   "id": "2cd3ec02-6a64-4a77-9d19-bb5c457e26a5",
   "metadata": {},
   "outputs": [],
   "source": [
    "import pandas as pd\n",
    "import numpy as np\n",
    "import os\n",
    "from glob import glob\n",
    "from sklearn.model_selection import train_test_split\n",
    "from sklearn.preprocessing import StandardScaler, LabelEncoder\n",
    "from sklearn.ensemble import RandomForestClassifier\n",
    "from sklearn.metrics import classification_report, confusion_matrix\n",
    "import joblib\n"
   ]
  },
  {
   "cell_type": "code",
   "execution_count": null,
   "id": "060748fe-84c5-44ad-ac8e-d6cbc10c0f8c",
   "metadata": {},
   "outputs": [
    {
     "name": "stdout",
     "output_type": "stream",
     "text": [
      "✅ Reading: Friday-WorkingHours-Afternoon-DDos.pcap_ISCX.csv\n",
      "✅ Reading: Friday-WorkingHours-Afternoon-PortScan.pcap_ISCX.csv\n",
      "✅ Reading: Friday-WorkingHours-Morning.pcap_ISCX.csv\n",
      "✅ Reading: Thursday-WorkingHours-Afternoon-Infilteration.pcap_ISCX.csv\n",
      "✅ Reading: Thursday-WorkingHours-Morning-WebAttacks.pcap_ISCX.csv\n",
      "📦 Combined dataset shape: (1331575, 79)\n"
     ]
    }
   ],
   "source": [
    "folder = 'CIC-IDS-2017'\n",
    "csv_files = glob(os.path.join(folder, '*.csv'))\n",
    "dfs = []\n",
    "\n",
    "for path in csv_files:\n",
    "    print(f\"✅ Reading: {os.path.basename(path)}\")\n",
    "    try:\n",
    "        df = pd.read_csv(path, low_memory=False)\n",
    "        df.columns = df.columns.str.strip()\n",
    "        df = df.replace([np.inf, -np.inf], np.nan).dropna()\n",
    "        if 'Label' in df.columns:\n",
    "            dfs.append(df)\n",
    "    except Exception as e:\n",
    "        print(f\"❌ Skipped {path}: {e}\")\n",
    "\n",
    "# Loading the Web Attack file manually and appending it\n",
    "web_path = 'CIC-IDS-2017/Thursday-WorkingHours-Morning-WebAttacks.pcap_ISCX.csv'\n",
    "df_web = pd.read_csv(web_path, low_memory=False)\n",
    "df_web.columns = df_web.columns.str.strip()\n",
    "df_web = df_web.replace([np.inf, -np.inf], np.nan).dropna()\n",
    "df_web['Label'] = df_web['Label'].astype(str).str.strip().str.replace('–', '-')  # fix dashes\n",
    "\n",
    "dfs.append(df_web)\n",
    "\n",
    "# Combineing everything\n",
    "df = pd.concat(dfs, ignore_index=True)\n",
    "df = df.sample(frac=1, random_state=42).reset_index(drop=True)\n",
    "\n",
    "print(f\"📦 Combined dataset shape: {df.shape}\")\n"
   ]
  },
  {
   "cell_type": "code",
   "execution_count": null,
   "id": "b8a9792f-5bfb-4de5-905f-fcca203c9b86",
   "metadata": {},
   "outputs": [
    {
     "name": "stdout",
     "output_type": "stream",
     "text": [
      "📊 Final class distribution:\n",
      "Label\n",
      "BENIGN                        1038394\n",
      "PortScan                       158804\n",
      "DDoS                           128025\n",
      "Web Attack - Brute Force         3014\n",
      "Web Attack - XSS                 1304\n",
      "Web Attack - Sql Injection         42\n",
      "Infiltration                       36\n",
      "Name: count, dtype: int64\n"
     ]
    }
   ],
   "source": [
    "def normalize_label(x):\n",
    "    x = str(x).strip().replace('–', '-').replace('  ', ' ')\n",
    "    ux = x.upper()\n",
    "\n",
    "    if 'BENIGN' in ux:\n",
    "        return 'BENIGN'\n",
    "    if 'DDOS' in ux:\n",
    "        return 'DDoS'\n",
    "    if 'PORTSCAN' in ux:\n",
    "        return 'PortScan'\n",
    "    if 'INFILT' in ux:\n",
    "        return 'Infiltration'\n",
    "    if 'WEB ATTACK' in ux:\n",
    "        return x  # preserve specific Web Attack type\n",
    "    return x\n",
    "\n",
    "df['Label'] = df['Label'].apply(normalize_label)\n",
    "\n",
    "#labels\n",
    "allowed_labels = [\n",
    "    'BENIGN', 'DDoS', 'PortScan', 'Infiltration',\n",
    "    'Web Attack - Brute Force',\n",
    "    'Web Attack - Sql Injection',\n",
    "    'Web Attack - XSS'\n",
    "]\n",
    "\n",
    "df = df[df['Label'].isin(allowed_labels)].copy()\n",
    "\n",
    "print(\"📊 Final class distribution:\")\n",
    "print(df['Label'].value_counts())\n"
   ]
  },
  {
   "cell_type": "code",
   "execution_count": null,
   "id": "dbc601fe-b56c-4032-b1a8-b9773e1684fb",
   "metadata": {},
   "outputs": [
    {
     "name": "stdout",
     "output_type": "stream",
     "text": [
      "🔤 Label encoding map:\n",
      "0 → BENIGN\n",
      "1 → DDoS\n",
      "2 → Infiltration\n",
      "3 → PortScan\n",
      "4 → Web Attack - Brute Force\n",
      "5 → Web Attack - Sql Injection\n",
      "6 → Web Attack - XSS\n"
     ]
    }
   ],
   "source": [
    "encoder = LabelEncoder()\n",
    "df['Label_enc'] = encoder.fit_transform(df['Label'])\n",
    "\n",
    "# Save labels\n",
    "joblib.dump(encoder, 'label_encoder.pkl')\n",
    "\n",
    "# checks lables\n",
    "print(\"🔤 Label encoding map:\")\n",
    "for i, cls in enumerate(encoder.classes_):\n",
    "    print(f\"{i} → {cls}\")\n"
   ]
  },
  {
   "cell_type": "code",
   "execution_count": 42,
   "id": "d0a27f2b-035b-40eb-8a1c-e22d1c706efa",
   "metadata": {},
   "outputs": [
    {
     "name": "stdout",
     "output_type": "stream",
     "text": [
      "✅ Final dataset shape: 1329619 rows\n"
     ]
    }
   ],
   "source": [
    "features = [\n",
    "    'Flow Duration', 'Total Fwd Packets', 'Total Backward Packets',\n",
    "    'Total Length of Fwd Packets', 'Total Length of Bwd Packets',\n",
    "    'Fwd Packet Length Max', 'Bwd Packet Length Max',\n",
    "    'Fwd Packets/s', 'Bwd Packets/s',\n",
    "    'Flow IAT Mean', 'Fwd IAT Mean', 'Bwd IAT Mean'\n",
    "]\n",
    "\n",
    "df = df.replace([np.inf, -np.inf], np.nan).dropna(subset=features + ['Label_enc'])\n",
    "\n",
    "X = df[features]\n",
    "y = df['Label_enc']\n",
    "\n",
    "print(f\"✅ Final dataset shape: {X.shape[0]} rows\")\n"
   ]
  },
  {
   "cell_type": "code",
   "execution_count": 43,
   "id": "c1221ebf-6f89-4eb8-8fa3-39337b0f020e",
   "metadata": {},
   "outputs": [
    {
     "name": "stdout",
     "output_type": "stream",
     "text": [
      "📊 Train: 1063695 | Test: 265924\n"
     ]
    }
   ],
   "source": [
    "scaler = StandardScaler()\n",
    "X_scaled = scaler.fit_transform(X)\n",
    "\n",
    "X_train, X_test, y_train, y_test = train_test_split(\n",
    "    X_scaled, y, test_size=0.2, random_state=42, stratify=y\n",
    ")\n",
    "\n",
    "joblib.dump(scaler, 'scaler.pkl')\n",
    "\n",
    "print(f\"📊 Train: {len(X_train)} | Test: {len(X_test)}\")\n"
   ]
  },
  {
   "cell_type": "code",
   "execution_count": 44,
   "id": "1f0a7892-973f-40ff-adec-e80994b2fd21",
   "metadata": {},
   "outputs": [
    {
     "name": "stdout",
     "output_type": "stream",
     "text": [
      "✅ Model saved as rf_model.pkl\n"
     ]
    }
   ],
   "source": [
    "model = RandomForestClassifier(n_estimators=100, class_weight='balanced', random_state=42)\n",
    "model.fit(X_train, y_train)\n",
    "\n",
    "joblib.dump(model, 'rf_model.pkl')\n",
    "print(\"✅ Model saved as rf_model.pkl\")\n"
   ]
  },
  {
   "cell_type": "code",
   "execution_count": 45,
   "id": "ad0bf257-fdb0-443c-9392-ec47519b380d",
   "metadata": {},
   "outputs": [
    {
     "name": "stdout",
     "output_type": "stream",
     "text": [
      "📉 Confusion Matrix:\n",
      "[[203054     26      7    197   3610    219    566]\n",
      " [    41  25564      0      0      0      0      0]\n",
      " [     4      0      3      0      0      0      0]\n",
      " [     4      0      0  31756      1      0      0]\n",
      " [    35      0      0      0    401      1    166]\n",
      " [     0      0      0      0      4      4      0]\n",
      " [    13      0      0      0      6      0    242]]\n",
      "\n",
      "📊 Classification Report:\n",
      "                            precision    recall  f1-score   support\n",
      "\n",
      "                    BENIGN       1.00      0.98      0.99    207679\n",
      "                      DDoS       1.00      1.00      1.00     25605\n",
      "              Infiltration       0.30      0.43      0.35         7\n",
      "                  PortScan       0.99      1.00      1.00     31761\n",
      "  Web Attack - Brute Force       0.10      0.67      0.17       603\n",
      "Web Attack - Sql Injection       0.02      0.50      0.03         8\n",
      "          Web Attack - XSS       0.25      0.93      0.39       261\n",
      "\n",
      "                  accuracy                           0.98    265924\n",
      "                 macro avg       0.52      0.79      0.56    265924\n",
      "              weighted avg       1.00      0.98      0.99    265924\n",
      "\n"
     ]
    }
   ],
   "source": [
    "y_pred = model.predict(X_test)\n",
    "\n",
    "print(\"📉 Confusion Matrix:\")\n",
    "print(confusion_matrix(y_test, y_pred))\n",
    "\n",
    "print(\"\\n📊 Classification Report:\")\n",
    "print(classification_report(y_test, y_pred, target_names=encoder.classes_))\n"
   ]
  },
  {
   "cell_type": "code",
   "execution_count": null,
   "id": "eb7b0255-b429-48aa-bc61-183c475cb051",
   "metadata": {},
   "outputs": [],
   "source": []
  }
 ],
 "metadata": {
  "kernelspec": {
   "display_name": "Python [conda env:base] *",
   "language": "python",
   "name": "conda-base-py"
  },
  "language_info": {
   "codemirror_mode": {
    "name": "ipython",
    "version": 3
   },
   "file_extension": ".py",
   "mimetype": "text/x-python",
   "name": "python",
   "nbconvert_exporter": "python",
   "pygments_lexer": "ipython3",
   "version": "3.12.7"
  }
 },
 "nbformat": 4,
 "nbformat_minor": 5
}
